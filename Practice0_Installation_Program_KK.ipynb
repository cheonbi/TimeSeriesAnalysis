{
 "cells": [
  {
   "cell_type": "markdown",
   "metadata": {},
   "source": [
    "# **1. Python(Anaconda3) 및 Jupyter Notebook 설치**  \n",
    "\n",
    "## \"From 제어판 및 인터넷(윈도우10기준)\"\n",
    "\n",
    "**1) 이전에 설치된 기록이 있다면 삭제**  \n",
    "-> 시작 -> \"제어판\" 타이핑 -> \"제어판\" 선택  \n",
    "-> 프로그램및기능 선택  \n",
    "-> Anaconda3 또는 Python으로 시작되는 이름 선택  \n",
    "-> 우클릭으로 제거  \n",
    "**2) 프로그램 다운로드**  \n",
    "-> https://www.anaconda.com/download/ 접속  \n",
    "-> Windows/macOX/Linux중 Windows 클릭  \n",
    "-> Python \"Download\" 클릭  \n",
    "**3) 다운로드한 프로그램 실행 및 설치**  \n",
    "-> 다운로드한 설치파일 우클릭으로 \"관리자 권한으로 실행\"  \n",
    "->\"Next\"를 누르며 진행하면 되는데 설치 중 \"Advanced Options\" 페이지에서  \n",
    "\"Add Anaconda to the system PATH environment variable\"을 선택을 체크하고 진행  \n",
    "(본 링크 https://hobbang143.blog.me/221461726444 \"설치 02\" 부터 동일하게 참조)  "
   ]
  },
  {
   "cell_type": "markdown",
   "metadata": {},
   "source": [
    "# **2. PIP 업데이트 / Jupyter Notebook 확장 / Jupyter Lab 설치**\n",
    "\n",
    "## \"From 아나콘다 프롬프트(윈도우10기준)\"\n",
    "\n",
    "**1) 아나콘다 프롬프트 접속**  \n",
    "-> 시작 -> \"Anaconda\" 타이핑  \n",
    "-> \"Anaconda Prompt\" 우클릭으로 \"관리자 권한으로 실행\"  \n",
    "**2) PIP 업데이트 설치(하기 2가지 중 에러가 없는 것으로 타이핑 실행)**  \n",
    "-> pip install --upgrade pip  \n",
    "-> python -m pip install --user --upgrade pip  \n",
    "**3) Jupyter Notebook 확장 설치(Nbextensions)**  \n",
    "-> pip install jupyter_contrib_nbextensions  \n",
    "-> jupyter contrib nbextension install --user   \n",
    "**4) Jupyter Lab 설치**  \n",
    "-> pip install jupyterlab  \n",
    "-> pip install --upgrade jupyterlab  \n",
    "-> conda install --yes nodejs  \n",
    "-> jupyter labextension install @jupyterlab/toc  \n",
    "\n",
    "## \"From 아나콘다 프롬프트(윈도우10기준)\"\n",
    "\n",
    "**1) 아나콘다 프롬프트 접속**  \n",
    "-> 시작 -> \"Anaconda\" 타이핑  \n",
    "-> \"Anaconda Prompt\" 우클릭으로 \"관리자 권한으로 실행\"  \n",
    "**2) PIP / Jupyter Notebook / Jupyter Lab 한방에 설치(하기 내용 복사 아나콘다 프롬프트 우클릭(붙여넣기))**  \n",
    ":: Update of PIP  \n",
    "pip install --upgrade pip  \n",
    "python -m pip install --user --upgrade pip  \n",
    ":: Jupyter Nbextensions  \n",
    "pip install jupyter_contrib_nbextensions  \n",
    "jupyter contrib nbextension install --user  \n",
    ":: Jupyter Lab  \n",
    "pip install jupyterlab  \n",
    "pip install --upgrade jupyterlab  \n",
    "conda install --yes nodejs  \n",
    "jupyter labextension install @jupyterlab/toc    \n",
    "::  "
   ]
  },
  {
   "cell_type": "markdown",
   "metadata": {},
   "source": [
    "# **3. Jupyter Lab에 R 연결(선택)**\n",
    "\n",
    "## \"From 인터넷(윈도우10기준)\"\n",
    "\n",
    "**1) R프로그램 다운로드 및 설치** \n",
    "-> https://cran.r-project.org/bin/windows/base/ 접속  \n",
    "-> \"Download\" 클릭 및 실행  \n",
    "**2) Git 설치**  \n",
    "-> https://git-scm.com 접속  \n",
    "-> \"Download\" 클릭 및 실행  \n",
    "\n",
    "## \"From 아나콘다 프롬프트(윈도우10기준)\"\n",
    "\n",
    "**1) 아나콘다 프롬프트 접속**  \n",
    "-> 시작 -> \"Anaconda\" 타이핑  \n",
    "-> \"Anaconda Prompt\" 우클릭으로 \"관리자 권한으로 실행\"  \n",
    "**2) Jupyter Client 및 R기본 설치**  \n",
    "-> conda install --yes -c anaconda jupyter_client  \n",
    "-> conda install --yes -c r r-essentials  \n",
    "**3) R패키지 설치**\n",
    "-> cd C:\\Program Files\\R\\R-3.6.1\\bin(R이 설치된 경로로 이동)\n",
    "-> R.exe   \n",
    "-> install.packages(\"devtools\")  \n",
    "-> devtools::install_github(\"IRkernel/IRkernel\")  \n",
    "-> IRkernel::installspec(user = FALSE) "
   ]
  },
  {
   "cell_type": "markdown",
   "metadata": {},
   "source": [
    "# **4. Jupyter Notebook 및 Jupyter Lab 세팅 및 강의시작**\n",
    "\n",
    "## \"From OS(윈도우10기준)\"\n",
    "\n",
    "**1) Jupyter Notebook 속성 진입**  \n",
    "-> 시작 -> \"Jupyter\" 타이핑  \n",
    "-> \"Jupyter Notebook\" 우클릭으로 \"작업 표시줄에 고정\"  \n",
    "-> 작업 표시줄의 \"Jupyter Notebook\" 아이콘 우클릭  \n",
    "-> 상단 \"Jupyter Notebook\" 우클릭 -> 속성 클릭  \n",
    "**2) Jupyter Notebook 작업경로 반영**  \n",
    "-> \"대상\"에서 \"%USERPROFILE%/\" 삭제후 본인 작업 폴더 반영(ex. D:\\)  \n",
    "-> \"시작위치\"에서 %HOMEPATH% 삭제후 본인 작업 폴더 반영(ex. D:\\)  \n",
    "-> 하단 \"확인\" 클릭  \n",
    "**3) Jupyter Notebook 실행**  \n",
    "-> 작업 표시줄의 \"Jupyter Notebook\" 좌클릭  \n",
    "-> (만약 인터넷 창이 반응이 없다면) 인터넷 주소창에 http://localhost:8888/tree 타이핑  \n",
    "**4) Jupyter Notebook Nbextensions 기능 추가**  \n",
    "-> Files/Running/Clusters/Nbextensions 중 Nbextensions 클릭  \n",
    "-> \"disable configuration for nbextensions without explicit compatibility\" 체크 해제  \n",
    "-> 하기 7종 클릭하여 기능확인 후 필요시 추가(Table of Contents는 수업용 필수)  \n",
    "- Table of Contents\n",
    "- Autopep8\n",
    "- Codefolding\n",
    "- Collapsible Headings\n",
    "- Hide Input All\n",
    "- Execute Time\n",
    "- Variable Inspector\n",
    "\n",
    "**5) Jupyter Notebook으로 강의시작(이론대응)**  \n",
    "-> Files/Running/Clusters/Nbextensions 중 Files 클릭  \n",
    "-> 다운로드 받은 강의자료의 폴더위치로 이동하여 자료 실행  \n",
    "**6) Jupyter Lab으로 강의시작(실습대응)**  \n",
    "-> 인터넷 주소창에서 http://localhost:8888/lab 타이핑  \n",
    "-> 좌측 상단 폴더에서 다운로드 받은 강의자료의 폴더위치로 이동하여 자료 실행  "
   ]
  },
  {
   "cell_type": "markdown",
   "metadata": {},
   "source": [
    "# **별첨. 이상 무!**\n",
    "\n",
    "- 위 내용들이 순서대로 진행되야 하며, 제대로 진행하셨다면 문제 발생 확률 낮음  \n",
    "- 만약 이상이 있다면 모두 삭제 후 처음부터 하나씩 다시 진행하시길 권장  "
   ]
  }
 ],
 "metadata": {
  "hide_input": false,
  "kernelspec": {
   "display_name": "Python 3",
   "language": "python",
   "name": "python3"
  },
  "language_info": {
   "codemirror_mode": {
    "name": "ipython",
    "version": 3
   },
   "file_extension": ".py",
   "mimetype": "text/x-python",
   "name": "python",
   "nbconvert_exporter": "python",
   "pygments_lexer": "ipython3",
   "version": "3.7.4"
  },
  "toc": {
   "base_numbering": 1,
   "nav_menu": {},
   "number_sections": true,
   "sideBar": true,
   "skip_h1_title": false,
   "title_cell": "Table of Contents",
   "title_sidebar": "Contents",
   "toc_cell": false,
   "toc_position": {
    "height": "calc(100% - 180px)",
    "left": "10px",
    "top": "150px",
    "width": "371px"
   },
   "toc_section_display": true,
   "toc_window_display": true
  },
  "varInspector": {
   "cols": {
    "lenName": 16,
    "lenType": 16,
    "lenVar": 40
   },
   "kernels_config": {
    "python": {
     "delete_cmd_postfix": "",
     "delete_cmd_prefix": "del ",
     "library": "var_list.py",
     "varRefreshCmd": "print(var_dic_list())"
    },
    "r": {
     "delete_cmd_postfix": ") ",
     "delete_cmd_prefix": "rm(",
     "library": "var_list.r",
     "varRefreshCmd": "cat(var_dic_list()) "
    }
   },
   "types_to_exclude": [
    "module",
    "function",
    "builtin_function_or_method",
    "instance",
    "_Feature"
   ],
   "window_display": false
  }
 },
 "nbformat": 4,
 "nbformat_minor": 4
}
